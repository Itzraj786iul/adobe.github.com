{
 "cells": [
  {
   "cell_type": "markdown",
   "id": "d64ea565",
   "metadata": {
    "papermill": {
     "duration": 0.005178,
     "end_time": "2025-03-24T07:22:17.273542",
     "exception": false,
     "start_time": "2025-03-24T07:22:17.268364",
     "status": "completed"
    },
    "tags": []
   },
   "source": [
    "# Spam SMS Detection Project\n",
    "\n",
    "## 1. Initial Data Exploration\n",
    "First, let's examine the dataset to understand its structure, check for missing values, and get some basic statistics."
   ]
  },
  {
   "cell_type": "code",
   "execution_count": 1,
   "id": "17b72740",
   "metadata": {
    "_cell_guid": "b1076dfc-b9ad-4769-8c92-a6c4dae69d19",
    "_uuid": "8f2839f25d086af736a60e9eeb907d3b93b6e0e5",
    "execution": {
     "iopub.execute_input": "2025-03-24T07:22:17.283628Z",
     "iopub.status.busy": "2025-03-24T07:22:17.283325Z",
     "iopub.status.idle": "2025-03-24T07:22:20.119606Z",
     "shell.execute_reply": "2025-03-24T07:22:20.118906Z"
    },
    "papermill": {
     "duration": 2.843128,
     "end_time": "2025-03-24T07:22:20.121307",
     "exception": false,
     "start_time": "2025-03-24T07:22:17.278179",
     "status": "completed"
    },
    "tags": []
   },
   "outputs": [],
   "source": [
    "import pandas as pd\n",
    "import numpy as np\n",
    "import matplotlib.pyplot as plt\n",
    "import seaborn as sns\n",
    "from sklearn.feature_extraction.text import TfidfVectorizer\n",
    "from imblearn.over_sampling import SMOTE\n",
    "\n",
    "df = pd.read_csv(\"/kaggle/input/sms-spam-detection/spam.csv\", encoding=\"latin1\")\n"
   ]
  },
  {
   "cell_type": "code",
   "execution_count": 2,
   "id": "adecb52c",
   "metadata": {
    "execution": {
     "iopub.execute_input": "2025-03-24T07:22:20.133578Z",
     "iopub.status.busy": "2025-03-24T07:22:20.133327Z",
     "iopub.status.idle": "2025-03-24T07:22:20.180921Z",
     "shell.execute_reply": "2025-03-24T07:22:20.180104Z"
    },
    "papermill": {
     "duration": 0.055309,
     "end_time": "2025-03-24T07:22:20.182193",
     "exception": false,
     "start_time": "2025-03-24T07:22:20.126884",
     "status": "completed"
    },
    "tags": []
   },
   "outputs": [
    {
     "name": "stdout",
     "output_type": "stream",
     "text": [
      "--INFO--\n",
      "<class 'pandas.core.frame.DataFrame'>\n",
      "RangeIndex: 5572 entries, 0 to 5571\n",
      "Data columns (total 5 columns):\n",
      " #   Column      Non-Null Count  Dtype \n",
      "---  ------      --------------  ----- \n",
      " 0   v1          5572 non-null   object\n",
      " 1   v2          5572 non-null   object\n",
      " 2   Unnamed: 2  50 non-null     object\n",
      " 3   Unnamed: 3  12 non-null     object\n",
      " 4   Unnamed: 4  6 non-null      object\n",
      "dtypes: object(5)\n",
      "memory usage: 217.8+ KB\n",
      "None\n",
      "--NULL DETAILS--\n",
      "v1               0\n",
      "v2               0\n",
      "Unnamed: 2    5522\n",
      "Unnamed: 3    5560\n",
      "Unnamed: 4    5566\n",
      "dtype: int64\n",
      "--DESCRIPTION--\n",
      "          v1                      v2  \\\n",
      "count   5572                    5572   \n",
      "unique     2                    5169   \n",
      "top      ham  Sorry, I'll call later   \n",
      "freq    4825                      30   \n",
      "\n",
      "                                               Unnamed: 2  \\\n",
      "count                                                  50   \n",
      "unique                                                 43   \n",
      "top      bt not his girlfrnd... G o o d n i g h t . . .@\"   \n",
      "freq                                                    3   \n",
      "\n",
      "                   Unnamed: 3 Unnamed: 4  \n",
      "count                      12          6  \n",
      "unique                     10          5  \n",
      "top      MK17 92H. 450Ppw 16\"    GNT:-)\"  \n",
      "freq                        2          2  \n",
      "--SHAPE OF DATASET--\n"
     ]
    },
    {
     "data": {
      "text/plain": [
       "(5572, 5)"
      ]
     },
     "execution_count": 2,
     "metadata": {},
     "output_type": "execute_result"
    }
   ],
   "source": [
    "\n",
    "df.head()\n",
    "print(\"--INFO--\")\n",
    "print(df.info())\n",
    "print(\"--NULL DETAILS--\")\n",
    "print(df.isnull().sum())\n",
    "print(\"--DESCRIPTION--\")\n",
    "print(df.describe())\n",
    "print(\"--SHAPE OF DATASET--\")\n",
    "df.shape"
   ]
  },
  {
   "cell_type": "markdown",
   "id": "f7240f65",
   "metadata": {
    "papermill": {
     "duration": 0.004487,
     "end_time": "2025-03-24T07:22:20.191462",
     "exception": false,
     "start_time": "2025-03-24T07:22:20.186975",
     "status": "completed"
    },
    "tags": []
   },
   "source": [
    "## 2. Data Preparation\n",
    "The dataset contains unnecessary columns. Let's keep only the relevant ones and rename them for clarity."
   ]
  },
  {
   "cell_type": "code",
   "execution_count": 3,
   "id": "e8e0d038",
   "metadata": {
    "execution": {
     "iopub.execute_input": "2025-03-24T07:22:20.201187Z",
     "iopub.status.busy": "2025-03-24T07:22:20.200963Z",
     "iopub.status.idle": "2025-03-24T07:22:20.205758Z",
     "shell.execute_reply": "2025-03-24T07:22:20.205093Z"
    },
    "papermill": {
     "duration": 0.011232,
     "end_time": "2025-03-24T07:22:20.207117",
     "exception": false,
     "start_time": "2025-03-24T07:22:20.195885",
     "status": "completed"
    },
    "tags": []
   },
   "outputs": [],
   "source": [
    "df.isnull().sum()\n",
    "df = df.iloc[:, :2]\n",
    "df.columns = ['label', 'message']"
   ]
  },
  {
   "cell_type": "markdown",
   "id": "d4f80840",
   "metadata": {
    "papermill": {
     "duration": 0.004404,
     "end_time": "2025-03-24T07:22:20.216498",
     "exception": false,
     "start_time": "2025-03-24T07:22:20.212094",
     "status": "completed"
    },
    "tags": []
   },
   "source": [
    "### 2.1 Reviewing Cleaned Data\n",
    "Now let's look at our cleaned dataset with proper column names."
   ]
  },
  {
   "cell_type": "code",
   "execution_count": 4,
   "id": "b3a7adc7",
   "metadata": {
    "execution": {
     "iopub.execute_input": "2025-03-24T07:22:20.226270Z",
     "iopub.status.busy": "2025-03-24T07:22:20.226042Z",
     "iopub.status.idle": "2025-03-24T07:22:20.240102Z",
     "shell.execute_reply": "2025-03-24T07:22:20.239364Z"
    },
    "papermill": {
     "duration": 0.020294,
     "end_time": "2025-03-24T07:22:20.241262",
     "exception": false,
     "start_time": "2025-03-24T07:22:20.220968",
     "status": "completed"
    },
    "tags": []
   },
   "outputs": [
    {
     "data": {
      "text/html": [
       "<div>\n",
       "<style scoped>\n",
       "    .dataframe tbody tr th:only-of-type {\n",
       "        vertical-align: middle;\n",
       "    }\n",
       "\n",
       "    .dataframe tbody tr th {\n",
       "        vertical-align: top;\n",
       "    }\n",
       "\n",
       "    .dataframe thead th {\n",
       "        text-align: right;\n",
       "    }\n",
       "</style>\n",
       "<table border=\"1\" class=\"dataframe\">\n",
       "  <thead>\n",
       "    <tr style=\"text-align: right;\">\n",
       "      <th></th>\n",
       "      <th>label</th>\n",
       "      <th>message</th>\n",
       "    </tr>\n",
       "  </thead>\n",
       "  <tbody>\n",
       "    <tr>\n",
       "      <th>0</th>\n",
       "      <td>ham</td>\n",
       "      <td>Go until jurong point, crazy.. Available only ...</td>\n",
       "    </tr>\n",
       "    <tr>\n",
       "      <th>1</th>\n",
       "      <td>ham</td>\n",
       "      <td>Ok lar... Joking wif u oni...</td>\n",
       "    </tr>\n",
       "    <tr>\n",
       "      <th>2</th>\n",
       "      <td>spam</td>\n",
       "      <td>Free entry in 2 a wkly comp to win FA Cup fina...</td>\n",
       "    </tr>\n",
       "    <tr>\n",
       "      <th>3</th>\n",
       "      <td>ham</td>\n",
       "      <td>U dun say so early hor... U c already then say...</td>\n",
       "    </tr>\n",
       "    <tr>\n",
       "      <th>4</th>\n",
       "      <td>ham</td>\n",
       "      <td>Nah I don't think he goes to usf, he lives aro...</td>\n",
       "    </tr>\n",
       "    <tr>\n",
       "      <th>...</th>\n",
       "      <td>...</td>\n",
       "      <td>...</td>\n",
       "    </tr>\n",
       "    <tr>\n",
       "      <th>5567</th>\n",
       "      <td>spam</td>\n",
       "      <td>This is the 2nd time we have tried 2 contact u...</td>\n",
       "    </tr>\n",
       "    <tr>\n",
       "      <th>5568</th>\n",
       "      <td>ham</td>\n",
       "      <td>Will Ì_ b going to esplanade fr home?</td>\n",
       "    </tr>\n",
       "    <tr>\n",
       "      <th>5569</th>\n",
       "      <td>ham</td>\n",
       "      <td>Pity, * was in mood for that. So...any other s...</td>\n",
       "    </tr>\n",
       "    <tr>\n",
       "      <th>5570</th>\n",
       "      <td>ham</td>\n",
       "      <td>The guy did some bitching but I acted like i'd...</td>\n",
       "    </tr>\n",
       "    <tr>\n",
       "      <th>5571</th>\n",
       "      <td>ham</td>\n",
       "      <td>Rofl. Its true to its name</td>\n",
       "    </tr>\n",
       "  </tbody>\n",
       "</table>\n",
       "<p>5572 rows × 2 columns</p>\n",
       "</div>"
      ],
      "text/plain": [
       "     label                                            message\n",
       "0      ham  Go until jurong point, crazy.. Available only ...\n",
       "1      ham                      Ok lar... Joking wif u oni...\n",
       "2     spam  Free entry in 2 a wkly comp to win FA Cup fina...\n",
       "3      ham  U dun say so early hor... U c already then say...\n",
       "4      ham  Nah I don't think he goes to usf, he lives aro...\n",
       "...    ...                                                ...\n",
       "5567  spam  This is the 2nd time we have tried 2 contact u...\n",
       "5568   ham              Will Ì_ b going to esplanade fr home?\n",
       "5569   ham  Pity, * was in mood for that. So...any other s...\n",
       "5570   ham  The guy did some bitching but I acted like i'd...\n",
       "5571   ham                         Rofl. Its true to its name\n",
       "\n",
       "[5572 rows x 2 columns]"
      ]
     },
     "execution_count": 4,
     "metadata": {},
     "output_type": "execute_result"
    }
   ],
   "source": [
    "df"
   ]
  },
  {
   "cell_type": "markdown",
   "id": "00d38f70",
   "metadata": {
    "papermill": {
     "duration": 0.004487,
     "end_time": "2025-03-24T07:22:20.250427",
     "exception": false,
     "start_time": "2025-03-24T07:22:20.245940",
     "status": "completed"
    },
    "tags": []
   },
   "source": [
    "## 3. Feature Engineering\n",
    "### 3.1 Label Encoding\n",
    "Converting categorical labels to numeric values: 'ham' to 0 and 'spam' to 1."
   ]
  },
  {
   "cell_type": "code",
   "execution_count": 5,
   "id": "ea4fbd0d",
   "metadata": {
    "execution": {
     "iopub.execute_input": "2025-03-24T07:22:20.260368Z",
     "iopub.status.busy": "2025-03-24T07:22:20.260145Z",
     "iopub.status.idle": "2025-03-24T07:22:20.264384Z",
     "shell.execute_reply": "2025-03-24T07:22:20.263792Z"
    },
    "papermill": {
     "duration": 0.010595,
     "end_time": "2025-03-24T07:22:20.265601",
     "exception": false,
     "start_time": "2025-03-24T07:22:20.255006",
     "status": "completed"
    },
    "tags": []
   },
   "outputs": [],
   "source": [
    "# Convert label from string to numeric \n",
    "df['label'] = df['label'].map({'ham': 0, 'spam': 1})"
   ]
  },
  {
   "cell_type": "markdown",
   "id": "f23976ba",
   "metadata": {
    "papermill": {
     "duration": 0.004597,
     "end_time": "2025-03-24T07:22:20.274953",
     "exception": false,
     "start_time": "2025-03-24T07:22:20.270356",
     "status": "completed"
    },
    "tags": []
   },
   "source": [
    "### 3.2 Defining Features and Target\n",
    "Separating the message text (features) from the spam/ham labels (target)."
   ]
  },
  {
   "cell_type": "code",
   "execution_count": 6,
   "id": "8c13b770",
   "metadata": {
    "execution": {
     "iopub.execute_input": "2025-03-24T07:22:20.285102Z",
     "iopub.status.busy": "2025-03-24T07:22:20.284898Z",
     "iopub.status.idle": "2025-03-24T07:22:20.287854Z",
     "shell.execute_reply": "2025-03-24T07:22:20.287230Z"
    },
    "papermill": {
     "duration": 0.009361,
     "end_time": "2025-03-24T07:22:20.288961",
     "exception": false,
     "start_time": "2025-03-24T07:22:20.279600",
     "status": "completed"
    },
    "tags": []
   },
   "outputs": [],
   "source": [
    "# Define features (X) and target (y)\n",
    "X = df['message']  \n",
    "y = df['label']    "
   ]
  },
  {
   "cell_type": "markdown",
   "id": "7f37b1f4",
   "metadata": {
    "papermill": {
     "duration": 0.004405,
     "end_time": "2025-03-24T07:22:20.298094",
     "exception": false,
     "start_time": "2025-03-24T07:22:20.293689",
     "status": "completed"
    },
    "tags": []
   },
   "source": [
    "### 3.3 Verifying Encoding\n",
    "Checking that our label encoding worked correctly."
   ]
  },
  {
   "cell_type": "code",
   "execution_count": 7,
   "id": "a539b7d3",
   "metadata": {
    "execution": {
     "iopub.execute_input": "2025-03-24T07:22:20.307831Z",
     "iopub.status.busy": "2025-03-24T07:22:20.307581Z",
     "iopub.status.idle": "2025-03-24T07:22:20.316083Z",
     "shell.execute_reply": "2025-03-24T07:22:20.315377Z"
    },
    "papermill": {
     "duration": 0.01477,
     "end_time": "2025-03-24T07:22:20.317351",
     "exception": false,
     "start_time": "2025-03-24T07:22:20.302581",
     "status": "completed"
    },
    "tags": []
   },
   "outputs": [
    {
     "data": {
      "text/html": [
       "<div>\n",
       "<style scoped>\n",
       "    .dataframe tbody tr th:only-of-type {\n",
       "        vertical-align: middle;\n",
       "    }\n",
       "\n",
       "    .dataframe tbody tr th {\n",
       "        vertical-align: top;\n",
       "    }\n",
       "\n",
       "    .dataframe thead th {\n",
       "        text-align: right;\n",
       "    }\n",
       "</style>\n",
       "<table border=\"1\" class=\"dataframe\">\n",
       "  <thead>\n",
       "    <tr style=\"text-align: right;\">\n",
       "      <th></th>\n",
       "      <th>label</th>\n",
       "      <th>message</th>\n",
       "    </tr>\n",
       "  </thead>\n",
       "  <tbody>\n",
       "    <tr>\n",
       "      <th>0</th>\n",
       "      <td>0</td>\n",
       "      <td>Go until jurong point, crazy.. Available only ...</td>\n",
       "    </tr>\n",
       "    <tr>\n",
       "      <th>1</th>\n",
       "      <td>0</td>\n",
       "      <td>Ok lar... Joking wif u oni...</td>\n",
       "    </tr>\n",
       "    <tr>\n",
       "      <th>2</th>\n",
       "      <td>1</td>\n",
       "      <td>Free entry in 2 a wkly comp to win FA Cup fina...</td>\n",
       "    </tr>\n",
       "    <tr>\n",
       "      <th>3</th>\n",
       "      <td>0</td>\n",
       "      <td>U dun say so early hor... U c already then say...</td>\n",
       "    </tr>\n",
       "    <tr>\n",
       "      <th>4</th>\n",
       "      <td>0</td>\n",
       "      <td>Nah I don't think he goes to usf, he lives aro...</td>\n",
       "    </tr>\n",
       "    <tr>\n",
       "      <th>...</th>\n",
       "      <td>...</td>\n",
       "      <td>...</td>\n",
       "    </tr>\n",
       "    <tr>\n",
       "      <th>5567</th>\n",
       "      <td>1</td>\n",
       "      <td>This is the 2nd time we have tried 2 contact u...</td>\n",
       "    </tr>\n",
       "    <tr>\n",
       "      <th>5568</th>\n",
       "      <td>0</td>\n",
       "      <td>Will Ì_ b going to esplanade fr home?</td>\n",
       "    </tr>\n",
       "    <tr>\n",
       "      <th>5569</th>\n",
       "      <td>0</td>\n",
       "      <td>Pity, * was in mood for that. So...any other s...</td>\n",
       "    </tr>\n",
       "    <tr>\n",
       "      <th>5570</th>\n",
       "      <td>0</td>\n",
       "      <td>The guy did some bitching but I acted like i'd...</td>\n",
       "    </tr>\n",
       "    <tr>\n",
       "      <th>5571</th>\n",
       "      <td>0</td>\n",
       "      <td>Rofl. Its true to its name</td>\n",
       "    </tr>\n",
       "  </tbody>\n",
       "</table>\n",
       "<p>5572 rows × 2 columns</p>\n",
       "</div>"
      ],
      "text/plain": [
       "      label                                            message\n",
       "0         0  Go until jurong point, crazy.. Available only ...\n",
       "1         0                      Ok lar... Joking wif u oni...\n",
       "2         1  Free entry in 2 a wkly comp to win FA Cup fina...\n",
       "3         0  U dun say so early hor... U c already then say...\n",
       "4         0  Nah I don't think he goes to usf, he lives aro...\n",
       "...     ...                                                ...\n",
       "5567      1  This is the 2nd time we have tried 2 contact u...\n",
       "5568      0              Will Ì_ b going to esplanade fr home?\n",
       "5569      0  Pity, * was in mood for that. So...any other s...\n",
       "5570      0  The guy did some bitching but I acted like i'd...\n",
       "5571      0                         Rofl. Its true to its name\n",
       "\n",
       "[5572 rows x 2 columns]"
      ]
     },
     "execution_count": 7,
     "metadata": {},
     "output_type": "execute_result"
    }
   ],
   "source": [
    "df"
   ]
  },
  {
   "cell_type": "markdown",
   "id": "62c353ee",
   "metadata": {
    "papermill": {
     "duration": 0.004645,
     "end_time": "2025-03-24T07:22:20.327266",
     "exception": false,
     "start_time": "2025-03-24T07:22:20.322621",
     "status": "completed"
    },
    "tags": []
   },
   "source": [
    "## 4. Text Vectorization\n",
    "Converting text messages into numerical features using TF-IDF (Term Frequency-Inverse Document Frequency).\n",
    "This transforms our text data into a format that machine learning algorithms can process."
   ]
  },
  {
   "cell_type": "code",
   "execution_count": 8,
   "id": "ff91eabb",
   "metadata": {
    "execution": {
     "iopub.execute_input": "2025-03-24T07:22:20.337588Z",
     "iopub.status.busy": "2025-03-24T07:22:20.337352Z",
     "iopub.status.idle": "2025-03-24T07:22:20.508280Z",
     "shell.execute_reply": "2025-03-24T07:22:20.507355Z"
    },
    "papermill": {
     "duration": 0.177831,
     "end_time": "2025-03-24T07:22:20.509940",
     "exception": false,
     "start_time": "2025-03-24T07:22:20.332109",
     "status": "completed"
    },
    "tags": []
   },
   "outputs": [],
   "source": [
    "vectorizer = TfidfVectorizer(max_features=5000) \n",
    "X_vectorized = vectorizer.fit_transform(X)"
   ]
  },
  {
   "cell_type": "markdown",
   "id": "47d00ecc",
   "metadata": {
    "papermill": {
     "duration": 0.004816,
     "end_time": "2025-03-24T07:22:20.520191",
     "exception": false,
     "start_time": "2025-03-24T07:22:20.515375",
     "status": "completed"
    },
    "tags": []
   },
   "source": [
    "## 5. Data Analysis\n",
    "### 5.1 Class Distribution\n",
    "Visualizing the imbalance between spam and ham messages in our dataset."
   ]
  },
  {
   "cell_type": "code",
   "execution_count": 9,
   "id": "90d478d2",
   "metadata": {
    "execution": {
     "iopub.execute_input": "2025-03-24T07:22:20.530692Z",
     "iopub.status.busy": "2025-03-24T07:22:20.530386Z",
     "iopub.status.idle": "2025-03-24T07:22:20.764369Z",
     "shell.execute_reply": "2025-03-24T07:22:20.763748Z"
    },
    "papermill": {
     "duration": 0.241639,
     "end_time": "2025-03-24T07:22:20.766562",
     "exception": false,
     "start_time": "2025-03-24T07:22:20.524923",
     "status": "completed"
    },
    "tags": []
   },
   "outputs": [
    {
     "data": {
      "image/png": "[encoded data removed]",
      "text/plain": [
       "<Figure size 600x400 with 1 Axes>"
      ]
     },
     "metadata": {},
     "output_type": "display_data"
    }
   ],
   "source": [
    "plt.figure(figsize=(6, 4))\n",
    "sns.countplot(x=df['label'], palette='coolwarm')\n",
    "plt.title(\"Distribution of Spam and Ham Messages\")\n",
    "plt.xlabel(\"Message Type\")\n",
    "plt.ylabel(\"Count\")\n",
    "plt.show()\n"
   ]
  },
  {
   "cell_type": "markdown",
   "id": "cefc2796",
   "metadata": {
    "papermill": {
     "duration": 0.006724,
     "end_time": "2025-03-24T07:22:20.782698",
     "exception": false,
     "start_time": "2025-03-24T07:22:20.775974",
     "status": "completed"
    },
    "tags": []
   },
   "source": [
    "### 5.2 Handling Class Imbalance\n",
    "Using SMOTE (Synthetic Minority Over-sampling Technique) to address the class imbalance by creating\n",
    "synthetic examples of the minority class (spam)."
   ]
  },
  {
   "cell_type": "code",
   "execution_count": 10,
   "id": "a25d414e",
   "metadata": {
    "execution": {
     "iopub.execute_input": "2025-03-24T07:22:20.794372Z",
     "iopub.status.busy": "2025-03-24T07:22:20.794081Z",
     "iopub.status.idle": "2025-03-24T07:22:21.042519Z",
     "shell.execute_reply": "2025-03-24T07:22:21.041823Z"
    },
    "papermill": {
     "duration": 0.256032,
     "end_time": "2025-03-24T07:22:21.044096",
     "exception": false,
     "start_time": "2025-03-24T07:22:20.788064",
     "status": "completed"
    },
    "tags": []
   },
   "outputs": [],
   "source": [
    "smote = SMOTE(random_state=42)\n",
    "x_resampled, y_resampled = smote.fit_resample(X_vectorized, y)"
   ]
  },
  {
   "cell_type": "markdown",
   "id": "da834190",
   "metadata": {
    "papermill": {
     "duration": 0.005156,
     "end_time": "2025-03-24T07:22:21.054940",
     "exception": false,
     "start_time": "2025-03-24T07:22:21.049784",
     "status": "completed"
    },
    "tags": []
   },
   "source": [
    "### 5.3 Balanced Dataset Visualization\n",
    "Verifying the effect of SMOTE on our class distribution."
   ]
  },
  {
   "cell_type": "code",
   "execution_count": 11,
   "id": "b79f7315",
   "metadata": {
    "execution": {
     "iopub.execute_input": "2025-03-24T07:22:21.066290Z",
     "iopub.status.busy": "2025-03-24T07:22:21.066053Z",
     "iopub.status.idle": "2025-03-24T07:22:21.189913Z",
     "shell.execute_reply": "2025-03-24T07:22:21.189093Z"
    },
    "papermill": {
     "duration": 0.131115,
     "end_time": "2025-03-24T07:22:21.191305",
     "exception": false,
     "start_time": "2025-03-24T07:22:21.060190",
     "status": "completed"
    },
    "tags": []
   },
   "outputs": [
    {
     "data": {
      "image/png": "[encoded data removed]",
      "text/plain": [
       "<Figure size 640x480 with 1 Axes>"
      ]
     },
     "metadata": {},
     "output_type": "display_data"
    }
   ],
   "source": [
    "sns.countplot(x=y_resampled, palette='coolwarm')\n",
    "plt.title(\"Balanced dataset after SMOTE\")\n",
    "plt.xlabel(\"Message Type\")\n",
    "plt.ylabel(\"Count\")\n",
    "plt.show()"
   ]
  },
  {
   "cell_type": "markdown",
   "id": "9619ce2a",
   "metadata": {
    "papermill": {
     "duration": 0.005685,
     "end_time": "2025-03-24T07:22:21.203239",
     "exception": false,
     "start_time": "2025-03-24T07:22:21.197554",
     "status": "completed"
    },
    "tags": []
   },
   "source": [
    "## 6. Train-Test Split\n",
    "Splitting our data into training and testing sets, then applying SMOTE only to the training data\n",
    "to avoid data leakage. We use a 80/20 split and stratify to maintain the same class distribution."
   ]
  },
  {
   "cell_type": "code",
   "execution_count": 12,
   "id": "5938d665",
   "metadata": {
    "execution": {
     "iopub.execute_input": "2025-03-24T07:22:21.215287Z",
     "iopub.status.busy": "2025-03-24T07:22:21.215067Z",
     "iopub.status.idle": "2025-03-24T07:22:21.346832Z",
     "shell.execute_reply": "2025-03-24T07:22:21.346142Z"
    },
    "papermill": {
     "duration": 0.139783,
     "end_time": "2025-03-24T07:22:21.348760",
     "exception": false,
     "start_time": "2025-03-24T07:22:21.208977",
     "status": "completed"
    },
    "tags": []
   },
   "outputs": [
    {
     "name": "stdout",
     "output_type": "stream",
     "text": [
      "Original training set shape: (4457, 5000)\n",
      "Resampled training set shape: (7718, 5000)\n",
      "Testing set shape: (1115, 5000)\n"
     ]
    }
   ],
   "source": [
    "from sklearn.model_selection import train_test_split\n",
    "\n",
    "X_train, X_test, y_train, y_test = train_test_split(\n",
    "    X_vectorized, y, test_size=0.2, random_state=42, stratify=y\n",
    ")\n",
    "\n",
    "X_train_resampled, y_train_resampled = smote.fit_resample(X_train, y_train)\n",
    "\n",
    "print(f\"Original training set shape: {X_train.shape}\")\n",
    "print(f\"Resampled training set shape: {X_train_resampled.shape}\")\n",
    "print(f\"Testing set shape: {X_test.shape}\")"
   ]
  },
  {
   "cell_type": "markdown",
   "id": "e846800a",
   "metadata": {
    "papermill": {
     "duration": 0.0055,
     "end_time": "2025-03-24T07:22:21.361097",
     "exception": false,
     "start_time": "2025-03-24T07:22:21.355597",
     "status": "completed"
    },
    "tags": []
   },
   "source": [
    "## 7. Model Training and Evaluation\n",
    "Training multiple classification models and evaluating their performance:\n",
    "- Naive Bayes\n",
    "- Random Forest\n",
    "- Logistic Regression\n",
    "- Support Vector Machine (SVM)\n",
    "\n",
    "For each model, we'll calculate:\n",
    "- Accuracy\n",
    "- Precision, Recall, and F1-Score\n",
    "- Confusion Matrix"
   ]
  },
  {
   "cell_type": "code",
   "execution_count": 13,
   "id": "019ba5ce",
   "metadata": {
    "execution": {
     "iopub.execute_input": "2025-03-24T07:22:21.372858Z",
     "iopub.status.busy": "2025-03-24T07:22:21.372592Z",
     "iopub.status.idle": "2025-03-24T07:22:40.531249Z",
     "shell.execute_reply": "2025-03-24T07:22:40.530273Z"
    },
    "papermill": {
     "duration": 19.166088,
     "end_time": "2025-03-24T07:22:40.532584",
     "exception": false,
     "start_time": "2025-03-24T07:22:21.366496",
     "status": "completed"
    },
    "tags": []
   },
   "outputs": [
    {
     "name": "stdout",
     "output_type": "stream",
     "text": [
      "\n",
      "Training Naive Bayes model...\n",
      "Naive Bayes Accuracy: 0.9821\n",
      "\n",
      "Classification Report:\n",
      "              precision    recall  f1-score   support\n",
      "\n",
      "           0       0.99      0.99      0.99       966\n",
      "           1       0.93      0.94      0.93       149\n",
      "\n",
      "    accuracy                           0.98      1115\n",
      "   macro avg       0.96      0.96      0.96      1115\n",
      "weighted avg       0.98      0.98      0.98      1115\n",
      "\n",
      "\n",
      "Confusion Matrix:\n",
      "[[955  11]\n",
      " [  9 140]]\n",
      "\n",
      "Training Random Forest model...\n",
      "Random Forest Accuracy: 0.9767\n",
      "\n",
      "Classification Report:\n",
      "              precision    recall  f1-score   support\n",
      "\n",
      "           0       0.97      1.00      0.99       966\n",
      "           1       1.00      0.83      0.90       149\n",
      "\n",
      "    accuracy                           0.98      1115\n",
      "   macro avg       0.99      0.91      0.95      1115\n",
      "weighted avg       0.98      0.98      0.98      1115\n",
      "\n",
      "\n",
      "Confusion Matrix:\n",
      "[[966   0]\n",
      " [ 26 123]]\n",
      "\n",
      "Training Logistic Regression model...\n",
      "Logistic Regression Accuracy: 0.9839\n",
      "\n",
      "Classification Report:\n",
      "              precision    recall  f1-score   support\n",
      "\n",
      "           0       0.99      0.99      0.99       966\n",
      "           1       0.95      0.93      0.94       149\n",
      "\n",
      "    accuracy                           0.98      1115\n",
      "   macro avg       0.97      0.96      0.96      1115\n",
      "weighted avg       0.98      0.98      0.98      1115\n",
      "\n",
      "\n",
      "Confusion Matrix:\n",
      "[[959   7]\n",
      " [ 11 138]]\n",
      "\n",
      "Training SVM model...\n",
      "SVM Accuracy: 0.9767\n",
      "\n",
      "Classification Report:\n",
      "              precision    recall  f1-score   support\n",
      "\n",
      "           0       0.98      1.00      0.99       966\n",
      "           1       0.97      0.85      0.91       149\n",
      "\n",
      "    accuracy                           0.98      1115\n",
      "   macro avg       0.97      0.92      0.95      1115\n",
      "weighted avg       0.98      0.98      0.98      1115\n",
      "\n",
      "\n",
      "Confusion Matrix:\n",
      "[[962   4]\n",
      " [ 22 127]]\n"
     ]
    }
   ],
   "source": [
    "from sklearn.naive_bayes import MultinomialNB\n",
    "from sklearn.ensemble import RandomForestClassifier\n",
    "from sklearn.linear_model import LogisticRegression\n",
    "from sklearn.svm import SVC\n",
    "from sklearn.metrics import classification_report, confusion_matrix, accuracy_score\n",
    "\n",
    "models = {\n",
    "    \"Naive Bayes\": MultinomialNB(),\n",
    "    \"Random Forest\": RandomForestClassifier(n_estimators=100, random_state=42),\n",
    "    \"Logistic Regression\": LogisticRegression(random_state=42, max_iter=1000),\n",
    "    \"SVM\": SVC(probability=True, random_state=42)\n",
    "}\n",
    "\n",
    "results = {}\n",
    "\n",
    "for name, model in models.items():\n",
    "    print(f\"\\nTraining {name} model...\")\n",
    "\n",
    "    model.fit(X_train_resampled, y_train_resampled)\n",
    "    \n",
    "    y_pred = model.predict(X_test)\n",
    "    \n",
    "    accuracy = accuracy_score(y_test, y_pred)\n",
    "    \n",
    "    results[name] = {\n",
    "        \"model\": model,\n",
    "        \"accuracy\": accuracy,\n",
    "        \"classification_report\": classification_report(y_test, y_pred),\n",
    "        \"confusion_matrix\": confusion_matrix(y_test, y_pred)\n",
    "    }\n",
    "\n",
    "    print(f\"{name} Accuracy: {accuracy:.4f}\")\n",
    "    print(\"\\nClassification Report:\")\n",
    "    print(results[name][\"classification_report\"])\n",
    "    print(\"\\nConfusion Matrix:\")\n",
    "    print(results[name][\"confusion_matrix\"])"
   ]
  },
  {
   "cell_type": "markdown",
   "id": "3cf4aafc",
   "metadata": {
    "papermill": {
     "duration": 0.006461,
     "end_time": "2025-03-24T07:22:40.545300",
     "exception": false,
     "start_time": "2025-03-24T07:22:40.538839",
     "status": "completed"
    },
    "tags": []
   },
   "source": [
    "## 8. Model Comparison\n",
    "Creating visualizations to compare model performance and identifying the best model."
   ]
  },
  {
   "cell_type": "code",
   "execution_count": 14,
   "id": "ff7661b4",
   "metadata": {
    "execution": {
     "iopub.execute_input": "2025-03-24T07:22:40.560824Z",
     "iopub.status.busy": "2025-03-24T07:22:40.560512Z",
     "iopub.status.idle": "2025-03-24T07:22:41.127746Z",
     "shell.execute_reply": "2025-03-24T07:22:41.126729Z"
    },
    "papermill": {
     "duration": 0.57742,
     "end_time": "2025-03-24T07:22:41.129179",
     "exception": false,
     "start_time": "2025-03-24T07:22:40.551759",
     "status": "completed"
    },
    "tags": []
   },
   "outputs": [
    {
     "name": "stderr",
     "output_type": "stream",
     "text": [
      "/usr/local/lib/python3.10/dist-packages/seaborn/_oldcore.py:1765: FutureWarning: unique with argument that is not not a Series, Index, ExtensionArray, or np.ndarray is deprecated and will raise in a future version.\n",
      "  order = pd.unique(vector)\n"
     ]
    },
    {
     "data": {
      "image/png": "[encoded data removed]",
      "text/plain": [
       "<Figure size 1000x600 with 1 Axes>"
      ]
     },
     "metadata": {},
     "output_type": "display_data"
    },
    {
     "name": "stdout",
     "output_type": "stream",
     "text": [
      "Best performing model: Logistic Regression with accuracy 0.9839\n"
     ]
    },
    {
     "data": {
      "image/png": "[encoded data removed]",
      "text/plain": [
       "<Figure size 800x600 with 2 Axes>"
      ]
     },
     "metadata": {},
     "output_type": "display_data"
    }
   ],
   "source": [
    "model_names = list(results.keys())\n",
    "accuracies = [results[name][\"accuracy\"] for name in model_names]\n",
    "\n",
    "plt.figure(figsize=(10, 6))\n",
    "sns.barplot(x=model_names, y=accuracies, palette=\"viridis\")\n",
    "plt.title(\"Model Accuracy Comparison\")\n",
    "plt.ylabel(\"Accuracy\")\n",
    "plt.xlabel(\"Model\")\n",
    "plt.ylim(0.8, 1.0) \n",
    "plt.xticks(rotation=45)\n",
    "plt.tight_layout()\n",
    "plt.savefig(\"model_comparison.png\")\n",
    "plt.show()\n",
    "\n",
    "\n",
    "best_model_name = max(results, key=lambda k: results[k][\"accuracy\"])\n",
    "best_model = results[best_model_name][\"model\"]\n",
    "best_accuracy = results[best_model_name][\"accuracy\"]\n",
    "\n",
    "print(f\"Best performing model: {best_model_name} with accuracy {best_accuracy:.4f}\")\n",
    "\n",
    "cm = results[best_model_name][\"confusion_matrix\"]\n",
    "plt.figure(figsize=(8, 6))\n",
    "sns.heatmap(cm, annot=True, fmt='d', cmap='Blues',\n",
    "            xticklabels=['Ham', 'Spam'],\n",
    "            yticklabels=['Ham', 'Spam'])\n",
    "plt.xlabel('Predicted')\n",
    "plt.ylabel('Actual')\n",
    "plt.title(f'Confusion Matrix - {best_model_name}')\n",
    "plt.savefig(f\"{best_model_name}_confusion_matrix.png\")\n",
    "plt.show()"
   ]
  },
  {
   "cell_type": "markdown",
   "id": "db330691",
   "metadata": {
    "papermill": {
     "duration": 0.006861,
     "end_time": "2025-03-24T07:22:41.143782",
     "exception": false,
     "start_time": "2025-03-24T07:22:41.136921",
     "status": "completed"
    },
    "tags": []
   },
   "source": [
    "## 9. Saving the Model\n",
    "Saving the best performing model and the vectorizer for future use."
   ]
  },
  {
   "cell_type": "code",
   "execution_count": 15,
   "id": "3025d2ff",
   "metadata": {
    "execution": {
     "iopub.execute_input": "2025-03-24T07:22:41.159163Z",
     "iopub.status.busy": "2025-03-24T07:22:41.158936Z",
     "iopub.status.idle": "2025-03-24T07:22:41.176161Z",
     "shell.execute_reply": "2025-03-24T07:22:41.175448Z"
    },
    "papermill": {
     "duration": 0.026643,
     "end_time": "2025-03-24T07:22:41.177392",
     "exception": false,
     "start_time": "2025-03-24T07:22:41.150749",
     "status": "completed"
    },
    "tags": []
   },
   "outputs": [
    {
     "name": "stdout",
     "output_type": "stream",
     "text": [
      "Model saved as logistic_regression_model.pkl\n",
      "Vectorizer saved as vectorizer.pkl\n"
     ]
    }
   ],
   "source": [
    "import pickle\n",
    "\n",
    "def save_model(model, vectorizer, model_filename=\"best_model.pkl\", vectorizer_filename=\"vectorizer.pkl\"):\n",
    "    with open(model_filename, 'wb') as file:\n",
    "        pickle.dump(model, file)\n",
    "    \n",
    "    with open(vectorizer_filename, 'wb') as file:\n",
    "        pickle.dump(vectorizer, file)\n",
    "    \n",
    "    print(f\"Model saved as {model_filename}\")\n",
    "    print(f\"Vectorizer saved as {vectorizer_filename}\")\n",
    "\n",
    "save_model(best_model, vectorizer, f\"{best_model_name.lower().replace(' ', '_')}_model.pkl\")"
   ]
  },
  {
   "cell_type": "markdown",
   "id": "d3cb55fb",
   "metadata": {
    "papermill": {
     "duration": 0.0072,
     "end_time": "2025-03-24T07:22:41.191646",
     "exception": false,
     "start_time": "2025-03-24T07:22:41.184446",
     "status": "completed"
    },
    "tags": []
   },
   "source": [
    "## 10. Testing the Model\n",
    "Testing our trained model with new example messages to verify it can correctly identify spam."
   ]
  },
  {
   "cell_type": "code",
   "execution_count": 16,
   "id": "5798676e",
   "metadata": {
    "execution": {
     "iopub.execute_input": "2025-03-24T07:22:41.206513Z",
     "iopub.status.busy": "2025-03-24T07:22:41.206297Z",
     "iopub.status.idle": "2025-03-24T07:22:41.215739Z",
     "shell.execute_reply": "2025-03-24T07:22:41.214887Z"
    },
    "papermill": {
     "duration": 0.018238,
     "end_time": "2025-03-24T07:22:41.216978",
     "exception": false,
     "start_time": "2025-03-24T07:22:41.198740",
     "status": "completed"
    },
    "tags": []
   },
   "outputs": [
    {
     "name": "stdout",
     "output_type": "stream",
     "text": [
      "\n",
      "Message: Congratulations! You've won a $1000 gift card. Call now to claim your prize!\n",
      "Prediction: Spam\n",
      "Spam Probability: 0.9870\n",
      "\n",
      "Message: Hey, what time are we meeting for dinner tonight?\n",
      "Prediction: Ham\n",
      "Spam Probability: 0.0378\n",
      "\n",
      "Message: URGENT: Your bank account has been compromised. Reply with your details to secure your account.\n",
      "Prediction: Spam\n",
      "Spam Probability: 0.9133\n"
     ]
    }
   ],
   "source": [
    "def predict_message(message, model, vectorizer):\n",
    "    \"\"\"\n",
    "    Predict whether a new message is spam or not\n",
    "    \"\"\"\n",
    "    \n",
    "    message_vectorized = vectorizer.transform([message])\n",
    "    \n",
    "\n",
    "    prediction = model.predict(message_vectorized)[0]\n",
    "    probability = model.predict_proba(message_vectorized)[0][1]\n",
    "    \n",
    "\n",
    "    return {\n",
    "        \"message\": message,\n",
    "        \"prediction\": \"Spam\" if prediction == 1 else \"Ham\",\n",
    "        \"spam_probability\": probability\n",
    "    }\n",
    "\n",
    "\n",
    "example_messages = [\n",
    "    \"Congratulations! You've won a $1000 gift card. Call now to claim your prize!\",\n",
    "    \"Hey, what time are we meeting for dinner tonight?\",\n",
    "    \"URGENT: Your bank account has been compromised. Reply with your details to secure your account.\"\n",
    "]\n",
    "\n",
    "for message in example_messages:\n",
    "    result = predict_message(message, best_model, vectorizer)\n",
    "    print(f\"\\nMessage: {result['message']}\")\n",
    "    print(f\"Prediction: {result['prediction']}\")\n",
    "    print(f\"Spam Probability: {result['spam_probability']:.4f}\")"
   ]
  }
 ],
 "metadata": {
  "kaggle": {
   "accelerator": "none",
   "dataSources": [
    {
     "datasetId": 6951848,
     "sourceId": 11144225,
     "sourceType": "datasetVersion"
    }
   ],
   "dockerImageVersionId": 30918,
   "isGpuEnabled": false,
   "isInternetEnabled": true,
   "language": "python",
   "sourceType": "notebook"
  },
  "kernelspec": {
   "display_name": "Python 3",
   "language": "python",
   "name": "python3"
  },
  "language_info": {
   "codemirror_mode": {
    "name": "ipython",
    "version": 3
   },
   "file_extension": ".py",
   "mimetype": "text/x-python",
   "name": "python",
   "nbconvert_exporter": "python",
   "pygments_lexer": "ipython3",
   "version": "3.10.12"
  },
  "papermill": {
   "default_parameters": {},
   "duration": 27.210509,
   "end_time": "2025-03-24T07:22:41.841455",
   "environment_variables": {},
   "exception": null,
   "input_path": "__notebook__.ipynb",
   "output_path": "__notebook__.ipynb",
   "parameters": {},
   "start_time": "2025-03-24T07:22:14.630946",
   "version": "2.6.0"
  }
 },
 "nbformat": 4,
 "nbformat_minor": 5
}
